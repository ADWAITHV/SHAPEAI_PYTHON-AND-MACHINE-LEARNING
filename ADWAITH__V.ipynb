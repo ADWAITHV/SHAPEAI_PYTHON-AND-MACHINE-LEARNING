{
  "nbformat": 4,
  "nbformat_minor": 0,
  "metadata": {
    "colab": {
      "name": "ADWAITH _V.ipynb",
      "provenance": []
    },
    "kernelspec": {
      "name": "python3",
      "display_name": "Python 3"
    },
    "language_info": {
      "name": "python"
    }
  },
  "cells": [
    {
      "cell_type": "code",
      "metadata": {
        "id": "Ys-MMxACgNDI"
      },
      "source": [
        "fcfcfcfc"
      ],
      "execution_count": null,
      "outputs": []
    }
  ]
}